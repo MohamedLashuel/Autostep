{
 "cells": [
  {
   "cell_type": "code",
   "execution_count": 1,
   "metadata": {},
   "outputs": [],
   "source": [
    "from autostep3.util import *\n",
    "from autostep3 import better_aubio\n",
    "from threading import Thread\n",
    "import soundfile as sf\n",
    "import sounddevice as sd\n",
    "import numpy as np"
   ]
  },
  {
   "cell_type": "markdown",
   "metadata": {},
   "source": [
    "Separate the drums from the song"
   ]
  },
  {
   "cell_type": "code",
   "execution_count": 2,
   "metadata": {},
   "outputs": [],
   "source": [
    "drums_path = separate_drums(\"test_audio/hyperpop.mp3\")"
   ]
  },
  {
   "cell_type": "markdown",
   "metadata": {},
   "source": [
    "Generate onsets based on the drums\n",
    "- Change the onset method to experiment"
   ]
  },
  {
   "cell_type": "code",
   "execution_count": 16,
   "metadata": {},
   "outputs": [
    {
     "name": "stderr",
     "output_type": "stream",
     "text": [
      "[mp3float @ 0x565497f74ac0] Could not update timestamps for skipped samples.\n"
     ]
    },
    {
     "name": "stdout",
     "output_type": "stream",
     "text": [
      "130\n"
     ]
    },
    {
     "name": "stderr",
     "output_type": "stream",
     "text": [
      "[mp3float @ 0x565497f74ac0] Could not update timestamps for discarded samples.\n"
     ]
    }
   ],
   "source": [
    "onsets = better_aubio.onset(drums_path, \"mkl\")\n",
    "tempo = 130\n",
    "print(tempo)"
   ]
  },
  {
   "cell_type": "markdown",
   "metadata": {},
   "source": [
    "Load the separated drums for playback"
   ]
  },
  {
   "cell_type": "code",
   "execution_count": 11,
   "metadata": {},
   "outputs": [],
   "source": [
    "drums, samplerate = sf.read(drums_path, dtype='float32')\n",
    "num_samples = sf.info(drums_path).frames"
   ]
  },
  {
   "cell_type": "markdown",
   "metadata": {},
   "source": [
    "**Experiment** (optional cell): snap onsets to nearest 16th notes"
   ]
  },
  {
   "cell_type": "code",
   "execution_count": 17,
   "metadata": {},
   "outputs": [],
   "source": [
    "onsets = snap_sample(onsets, samplerate, tempo, 16)"
   ]
  },
  {
   "cell_type": "markdown",
   "metadata": {},
   "source": [
    "Generate the \"audible onsets\" track; on every onset you will hear a very short clipping sound"
   ]
  },
  {
   "cell_type": "code",
   "execution_count": 18,
   "metadata": {},
   "outputs": [],
   "source": [
    "# god numpy is FAST\n",
    "audible_onsets = np.float32(np.isin(np.arange(num_samples), onsets))"
   ]
  },
  {
   "cell_type": "markdown",
   "metadata": {},
   "source": [
    "Create 2 audio streams using `sounddevice` to play both tracks simultaneously"
   ]
  },
  {
   "cell_type": "code",
   "execution_count": 19,
   "metadata": {},
   "outputs": [],
   "source": [
    "song_stream = sd.OutputStream(channels=2, samplerate=samplerate)\n",
    "onsets_stream = sd.OutputStream(channels=1, samplerate=samplerate)"
   ]
  },
  {
   "cell_type": "markdown",
   "metadata": {},
   "source": [
    "The streams need to be multithreaded, since `OutputStream.write()` is a blocking call.\n",
    "This cell begins audio playback."
   ]
  },
  {
   "cell_type": "code",
   "execution_count": 20,
   "metadata": {},
   "outputs": [],
   "source": [
    "song_stream.start()\n",
    "onsets_stream.start()\n",
    "Thread(target=lambda: song_stream.write(drums)).start()\n",
    "Thread(target=lambda: onsets_stream.write(audible_onsets)).start()"
   ]
  },
  {
   "cell_type": "markdown",
   "metadata": {},
   "source": [
    "Run this cell to stop the streams, in case errors occur in the main thread"
   ]
  },
  {
   "cell_type": "code",
   "execution_count": null,
   "metadata": {},
   "outputs": [
    {
     "name": "stderr",
     "output_type": "stream",
     "text": [
      "Expression 'alsa_snd_pcm_mmap_begin( self->pcm, &areas, &self->offset, numFrames )' failed in 'src/hostapi/alsa/pa_linux_alsa.c', line: 3998\n",
      "Expression 'PaAlsaStreamComponent_RegisterChannels( &self->playback, &self->bufferProcessor, &playbackFrames, &xrun )' failed in 'src/hostapi/alsa/pa_linux_alsa.c', line: 4118\n",
      "Expression 'PaAlsaStream_SetUpBuffers( stream, &framesGot, &xrun )' failed in 'src/hostapi/alsa/pa_linux_alsa.c', line: 4495\n",
      "Exception in thread Thread-9 (<lambda>):\n",
      "Traceback (most recent call last):\n",
      "  File \"/home/t_/.pyenv/versions/3.10.13/lib/python3.10/threading.py\", line 1016, in _bootstrap_inner\n",
      "    self.run()\n",
      "  File \"/home/t_/.pyenv/versions/3.10.13/lib/python3.10/threading.py\", line 953, in run\n",
      "    self._target(*self._args, **self._kwargs)\n",
      "  File \"/tmp/ipykernel_5377/918457136.py\", line 4, in <lambda>\n",
      "  File \"/home/t_/Projects/Autostep/.venv/lib/python3.10/site-packages/sounddevice.py\", line 1544, in write\n",
      "    return RawOutputStream.write(self, data)\n",
      "  File \"/home/t_/Projects/Autostep/.venv/lib/python3.10/site-packages/sounddevice.py\", line 1331, in write\n",
      "    _check(err)\n",
      "  File \"/home/t_/Projects/Autostep/.venv/lib/python3.10/site-packages/sounddevice.py\", line 2745, in _check\n",
      "    raise PortAudioError(errormsg, err, hosterror_info)\n",
      "sounddevice.PortAudioError: <exception str() failed>\n",
      "Expression 'alsa_snd_pcm_mmap_begin( self->pcm, &areas, &self->offset, numFrames )' failed in 'src/hostapi/alsa/pa_linux_alsa.c', line: 3998\n",
      "Expression 'PaAlsaStreamComponent_RegisterChannels( &self->playback, &self->bufferProcessor, &playbackFrames, &xrun )' failed in 'src/hostapi/alsa/pa_linux_alsa.c', line: 4118\n",
      "Expression 'PaAlsaStream_SetUpBuffers( stream, &framesGot, &xrun )' failed in 'src/hostapi/alsa/pa_linux_alsa.c', line: 4495\n",
      "Exception in thread Thread-8 (<lambda>):\n",
      "Traceback (most recent call last):\n",
      "  File \"/home/t_/.pyenv/versions/3.10.13/lib/python3.10/threading.py\", line 1016, in _bootstrap_inner\n",
      "    self.run()\n",
      "  File \"/home/t_/.pyenv/versions/3.10.13/lib/python3.10/threading.py\", line 953, in run\n",
      "    self._target(*self._args, **self._kwargs)\n",
      "  File \"/tmp/ipykernel_5377/918457136.py\", line 3, in <lambda>\n",
      "  File \"/home/t_/Projects/Autostep/.venv/lib/python3.10/site-packages/sounddevice.py\", line 1544, in write\n",
      "    return RawOutputStream.write(self, data)\n",
      "  File \"/home/t_/Projects/Autostep/.venv/lib/python3.10/site-packages/sounddevice.py\", line 1331, in write\n",
      "    _check(err)\n",
      "  File \"/home/t_/Projects/Autostep/.venv/lib/python3.10/site-packages/sounddevice.py\", line 2745, in _check\n",
      "    raise PortAudioError(errormsg, err, hosterror_info)\n",
      "sounddevice.PortAudioError: <exception str() failed>\n"
     ]
    }
   ],
   "source": [
    "song_stream.stop()\n",
    "onsets_stream.stop()"
   ]
  }
 ],
 "metadata": {
  "kernelspec": {
   "display_name": ".venv",
   "language": "python",
   "name": "python3"
  },
  "language_info": {
   "codemirror_mode": {
    "name": "ipython",
    "version": 3
   },
   "file_extension": ".py",
   "mimetype": "text/x-python",
   "name": "python",
   "nbconvert_exporter": "python",
   "pygments_lexer": "ipython3",
   "version": "3.10.13"
  }
 },
 "nbformat": 4,
 "nbformat_minor": 2
}
