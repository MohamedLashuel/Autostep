{
 "cells": [
  {
   "cell_type": "markdown",
   "metadata": {},
   "source": [
    "Separate the drums from the song"
   ]
  },
  {
   "cell_type": "code",
   "execution_count": 6,
   "metadata": {},
   "outputs": [],
   "source": [
    "from autostep3.util import highest_index\n",
    "from autostep3 import better_aubio\n",
    "import shutil\n",
    "from os import path\n",
    "from spleeter.audio import Codec\n",
    "\n",
    "def separate_drums(audio_path: str, force: bool = False):\n",
    "\taudio_file_name = audio_path[highest_index(audio_path, '/') + 1 : highest_index(audio_path, '.')]\n",
    "\tif force or not path.exists(f'/tmp/{audio_file_name}'):\n",
    "\t\tfrom spleeter.separator import Separator\n",
    "\t\tseparator = Separator(\"spleeter:5stems\")\n",
    "\t\tseparator.separate_to_file(audio_path, '/tmp', codec=Codec.MP3, synchronous=True)\n",
    "\treturn shutil.copyfile(f'/tmp/{audio_file_name}/drums.mp3', 'separated_drums.wav')\n",
    "\n",
    "drums_path = separate_drums(\"test_audio/hyperpop.mp3\")"
   ]
  },
  {
   "cell_type": "markdown",
   "metadata": {},
   "source": [
    "Generate onsets based on the drums\n",
    "- Change the onset method to experiment"
   ]
  },
  {
   "cell_type": "code",
   "execution_count": 7,
   "metadata": {},
   "outputs": [
    {
     "name": "stderr",
     "output_type": "stream",
     "text": [
      "[mp3float @ 0x5631bb28ac80] Could not update timestamps for skipped samples.\n",
      "[mp3float @ 0x5631bb28ac80] Could not update timestamps for discarded samples.\n"
     ]
    }
   ],
   "source": [
    "onsets = better_aubio.onset(drums_path, 'complex')"
   ]
  },
  {
   "cell_type": "markdown",
   "metadata": {},
   "source": [
    "Load the separated drums for playback"
   ]
  },
  {
   "cell_type": "code",
   "execution_count": 13,
   "metadata": {},
   "outputs": [],
   "source": [
    "import soundfile as sf\n",
    "drums, samplerate = sf.read(drums_path, dtype='float32')\n",
    "num_samples = sf.info(drums_path).frames"
   ]
  },
  {
   "cell_type": "markdown",
   "metadata": {},
   "source": [
    "Generate the new audio track\n",
    "- On every onset you will hear a very short clipping sound\n",
    "- *This can take a while*\n",
    "- *You can reduce the audio length if needed*"
   ]
  },
  {
   "cell_type": "code",
   "execution_count": 9,
   "metadata": {},
   "outputs": [],
   "source": [
    "import numpy as np\n",
    "audible_onsets = np.array([i in onsets for i in range(num_samples // 2)], dtype='float32')"
   ]
  },
  {
   "cell_type": "markdown",
   "metadata": {},
   "source": [
    "Create 2 audio streams using `sounddevice` to play both tracks simultaneously"
   ]
  },
  {
   "cell_type": "code",
   "execution_count": 10,
   "metadata": {},
   "outputs": [],
   "source": [
    "import sounddevice as sd\n",
    "song_stream = sd.OutputStream(channels=2, samplerate=samplerate)\n",
    "onsets_stream = sd.OutputStream(channels=1, samplerate=samplerate)"
   ]
  },
  {
   "cell_type": "markdown",
   "metadata": {},
   "source": [
    "The streams need to be multithreaded, since `OutputStream.write()` is a blocking call"
   ]
  },
  {
   "cell_type": "code",
   "execution_count": 14,
   "metadata": {},
   "outputs": [],
   "source": [
    "from threading import Thread\n",
    "song_stream.start()\n",
    "onsets_stream.start()\n",
    "Thread(target=lambda: song_stream.write(drums)).start()\n",
    "Thread(target=lambda: onsets_stream.write(audible_onsets)).start()"
   ]
  },
  {
   "cell_type": "markdown",
   "metadata": {},
   "source": [
    "Run this cell to stop the streams, in case errors occur in the main thread"
   ]
  },
  {
   "cell_type": "code",
   "execution_count": 15,
   "metadata": {},
   "outputs": [],
   "source": [
    "song_stream.stop()\n",
    "onsets_stream.stop()"
   ]
  }
 ],
 "metadata": {
  "kernelspec": {
   "display_name": ".venv",
   "language": "python",
   "name": "python3"
  },
  "language_info": {
   "codemirror_mode": {
    "name": "ipython",
    "version": 3
   },
   "file_extension": ".py",
   "mimetype": "text/x-python",
   "name": "python",
   "nbconvert_exporter": "python",
   "pygments_lexer": "ipython3",
   "version": "3.10.13"
  }
 },
 "nbformat": 4,
 "nbformat_minor": 2
}
